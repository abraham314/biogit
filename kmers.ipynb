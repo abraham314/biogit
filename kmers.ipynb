{
 "cells": [
  {
   "cell_type": "code",
   "execution_count": 1,
   "metadata": {
    "collapsed": true
   },
   "outputs": [],
   "source": [
    "import pandas as pd\n",
    "import numpy as np\n",
    "from collections import Counter \n",
    "#from Bio.Seq import Seq \n",
    "import itertools as itr \n",
    "import distance"
   ]
  },
  {
   "cell_type": "code",
   "execution_count": 2,
   "metadata": {
    "collapsed": true
   },
   "outputs": [],
   "source": [
    "dataset='CACAGTAGGCGCCGGCACACACAGCCCCGGGCCCCGGGCCGCCCCGGGCCGGCGGCCGCCGGCGCCGGCACACCGGCACAGCCGTACCGGCACAGTAGTACCGGCCGGCCGGCACACCGGCACACCGGGTACACACCGGGGCGCACACACAGGCGGGCGCCGGGCCCCGGGCCGTACCGGGCCGCCGGCGGCCCACAGGCGCCGGCACAGTACCGGCACACACAGTAGCCCACACACAGGCGGGCGGTAGCCGGCGCACACACACACAGTAGGCGCACAGCCGCCCACACACACCGGCCGGCCGGCACAGGCGGGCGGGCGCACACACACCGGCACAGTAGTAGGCGGCCGGCGCACAGCC'"
   ]
  },
  {
   "cell_type": "code",
   "execution_count": 5,
   "metadata": {
    "collapsed": false
   },
   "outputs": [
    {
     "name": "stdout",
     "output_type": "stream",
     "text": [
      "GCGCACACAC 20\n",
      "ACACACACAC 19\n",
      "CGGCACACAC 18\n",
      "CCGGCACACA 17\n",
      "CGCCCACACA 17\n",
      "GCACACACAG 17\n",
      "CACACACACA 17\n",
      "CCACACACAC 17\n",
      "GCCCACACAC 16\n",
      "CGCACACACA 16\n",
      "GCCGGCACAC 16\n",
      "GCCGGCGCAC 15\n",
      "CGGCCGCCGG 15\n",
      "GGCGGCCGGC 15\n",
      "GGCACACACA 15\n",
      "CACACACACC 15\n",
      "GGCCGCCGGC 15\n",
      "CGCCGGCACA 15\n",
      "GGCGCACACA 14\n",
      "CCCACACACA 14\n",
      "GCACACACAC 14\n",
      "CGGCCGGCGC 13\n",
      "CCGGCGGCCG 13\n",
      "CACACAGGCG 13\n",
      "GCCGGCGCCG 13\n",
      "GGCCGGCACA 13\n",
      "GCCGGCACAG 13\n",
      "GCGCCGGCAC 12\n",
      "ACACACAGGC 12\n",
      "CCGGCACACC 12\n",
      "ACACACAGCC 12\n",
      "GGCGGCCGCC 12\n",
      "CGGGCCGGCG 12\n",
      "CACACACAGG 12\n",
      "GGCCGGCGGC 12\n",
      "CGGCACAGCC 12\n",
      "CCGGCGCACA 12\n",
      "ACCGGCACAC 12\n",
      "GCCGGCGGCC 12\n",
      "GCCGGCCGGC 12\n",
      "CACACACAGC 11\n",
      "CCGCCGGCGC 11\n",
      "CACACACCGG 11\n",
      "CGGCGCACAG 11\n",
      "GCGGGCGGGC 11\n",
      "GCCGCCGGCG 11\n",
      "CCGGGCCGGC 11\n",
      "GGGCGCACAC 11\n",
      "CCGGCACAGG 11\n",
      "CCGGCGCCGG 11\n",
      "GGCGGGCGCC 11\n",
      "CCACACACAG 11\n",
      "CGCCGGCGCC 11\n",
      "CGGCCGGCCG 11\n",
      "GGCCGGCGCA 11\n",
      "GCGGCCGGCG 11\n",
      "CACACACAGT 11\n",
      "ACACACACAG 11\n",
      "CGGCGCCGGC 10\n",
      "GCACACCGGC 10\n",
      "GGGCCGCCGG 10\n",
      "CCGCCCACAC 10\n",
      "TACCGGCACA 10\n",
      "ACACACACCG 10\n",
      "CACCGGCACA 10\n",
      "CGGGCGGGCG 10\n",
      "GTACCGGCAC 10\n",
      "GCGGGCGCCG 10\n",
      "CCGGCACAGC 10\n",
      "ACCGGCCGGC 10\n",
      "CGGCGCACAC 10\n",
      "CGGCCCACAG 10\n",
      "CGGGCCGCCG 10\n",
      "CCGGCCGGCC 10\n",
      "CACACCGGCC 10\n",
      "AGCCCACACA 10\n",
      "ACCGGCACAG 10\n",
      "ACACCGGCAC 10\n",
      "GCGGGCGCAC 10\n",
      "AGCCGGCGCA 10\n",
      "CCGGCACAGT 10\n",
      "GGGCCGGCGG 10\n",
      "GGCCGGCCGG 9\n",
      "GCGGCCGCCG 9\n",
      "AGGCGGCCGG 9\n",
      "GGGGCGCACA 9\n",
      "GGCGCCGGGC 9\n",
      "CACACCGGCA 9\n",
      "CGGGCGCCGG 9\n",
      "GCGCCGGGCC 9\n",
      "CCGGGCCGCC 9\n",
      "GGCGGCCCAC 9\n",
      "GCCCACAGGC 9\n",
      "GGCGGGCGCA 9\n",
      "ACCGGGCCGC 9\n",
      "ACACACCGGC 9\n",
      "CGGCCGGCAC 9\n",
      "CGGCGGCCGC 9\n",
      "GTACCGGGCC 9\n",
      "CCGCCGGCGG 9\n",
      "CGGGCGCACA 8\n",
      "GGCACACCGG 8\n",
      "CACCGGCCGG 8\n",
      "GGGCGCCGGG 8\n",
      "GGCACAGGCG 8\n",
      "GCGCACAGCC 8\n",
      "CGGCACAGGC 8\n",
      "GGCACAGCCG 8\n",
      "GGCGGGCGGG 8\n",
      "CGGGCCGCCC 8\n",
      "GCGGCCCACA 8\n",
      "GGGCGGGCGC 8\n",
      "CACACCGGGG 8\n",
      "CACAGTAGCC 8\n",
      "GGGTACACAC 8\n",
      "TACACACCGG 8\n",
      "CGGCACACCG 8\n",
      "ACACACCGGG 8\n",
      "CGCACAGCCG 7\n",
      "CGCCGGCGGC 7\n",
      "CGGGCCCCGG 7\n",
      "GCACAGCCGC 7\n",
      "CCCGGGCCGG 7\n",
      "GGCACAGTAG 7\n",
      "CGTACCGGCA 7\n",
      "CCCGGGCCCC 7\n",
      "CCCGGGCCGC 7\n",
      "GTAGGCGCCG 7\n",
      "CCCCGGGCCG 7\n",
      "GGCCCCGGGC 7\n",
      "CAGGCGCCGG 7\n",
      "CAGGCGGGCG 7\n",
      "CACACAGCCC 7\n",
      "CACAGGCGCC 7\n",
      "AGGCGGGCGC 7\n",
      "GTAGCCGGCG 7\n",
      "ACACCGGCCG 7\n",
      "CCCCGGGCCC 6\n",
      "GCCGCCCACA 6\n",
      "AGGCGGGCGG 6\n",
      "CCGGCCGGCA 6\n",
      "ACAGGCGGGC 6\n",
      "CACACCGGGT 6\n",
      "ACACAGGCGG 6\n",
      "CACACAGTAG 6\n",
      "GTAGGCGGCC 6\n",
      "CACAGCCGCC 6\n",
      "AGGCGCCGGC 6\n",
      "GGCGCACAGC 6\n",
      "TAGGCGGCCG 6\n",
      "GCACACCGGG 6\n",
      "CCGGGCCGTA 6\n",
      "CGCCCCGGGC 6\n",
      "TACCGGGCCG 6\n",
      "CGGCGGCCCA 6\n",
      "CCGGGGCGCA 6\n",
      "GCACAGGCGG 6\n",
      "GGGCCCCGGG 6\n",
      "GGCGGGCGGT 6\n",
      "GCCCCGGGCC 6\n",
      "CCGGCGGCCC 6\n",
      "CACAGTAGTA 6\n",
      "GCACAGTAGT 6\n",
      "CGCCGGGCCC 6\n",
      "CCACAGGCGC 6\n",
      "GGCCCACAGG 6\n",
      "GTACACACCG 6\n",
      "AGGCGCACAG 6\n",
      "GTAGGCGCAC 6\n",
      "ACACAGTAGG 6\n",
      "GGCGCCGGCA 6\n",
      "GCCGTACCGG 5\n",
      "CCGTACCGGC 5\n",
      "TACCGGCCGG 5\n",
      "CCGCCCCGGG 5\n",
      "GCACAGCCGT 5\n",
      "CACCGGGGCG 5\n",
      "CACAGGCGGG 5\n",
      "ACAGTACCGG 5\n",
      "CCGGGCCCCG 5\n",
      "GCCGGGCCCC 5\n",
      "TAGGCGCACA 5\n",
      "GGTAGCCGGC 5\n",
      "AGCCCCGGGC 5\n",
      "AGTAGGCGGC 5\n",
      "CGGGGCGCAC 5\n",
      "CCCGGGCCGT 5\n",
      "CGGCACAGTA 5\n",
      "TAGGCGCCGG 5\n",
      "CACAGTAGGC 5\n",
      "ACAGTAGGCG 5\n",
      "ACAGTAGCCC 5\n",
      "ACACCGGGGC 5\n",
      "CCCACAGGCG 5\n",
      "GTACCGGCCG 5\n",
      "ACACACAGTA 5\n",
      "ACAGGCGCCG 5\n",
      "ACACAGTAGC 5\n",
      "CAGCCCCGGG 4\n",
      "GTAGTAGGCG 4\n",
      "CACAGCCGTA 4\n",
      "GCACAGTACC 4\n",
      "AGTACCGGCC 4\n",
      "AGTAGGCGCA 4\n",
      "ACAGTAGTAG 4\n",
      "GGGCCGTACC 4\n",
      "GGCCGCCCCG 4\n",
      "ACAGTAGTAC 4\n",
      "CGTACCGGGC 4\n",
      "CGGGTACACA 4\n",
      "GCCGCCCCGG 4\n",
      "ACAGCCGCCC 4\n",
      "CAGTACCGGC 4\n",
      "GTAGTACCGG 4\n",
      "CGGGCCGTAC 4\n",
      "CCGTACCGGG 4\n",
      "GGTACACACC 3\n",
      "ACCGGGGCGC 3\n",
      "AGTACCGGCA 3\n",
      "GGCGGTAGCC 3\n",
      "GCGGTAGCCG 3\n",
      "CAGTAGGCGC 3\n",
      "CACAGCCCCG 3\n",
      "GGGCCGCCCC 3\n",
      "GGGCGGTAGC 3\n",
      "GGCCGTACCG 3\n",
      "AGTAGGCGCC 3\n",
      "CGGGCGGTAG 3\n",
      "CAGCCGCCCA 3\n",
      "GCGGGCGGTA 3\n",
      "TAGTACCGGC 3\n",
      "AGCCGTACCG 3\n",
      "TAGCCGGCGC 3\n",
      "ACAGCCGTAC 3\n",
      "CGGTAGCCGG 3\n",
      "TAGTAGGCGG 3\n",
      "AGCCGCCCAC 3\n",
      "GGCACAGTAC 3\n",
      "CACAGTACCG 3\n",
      "CAGCCGTACC 3\n",
      "ACAGCCCCGG 3\n",
      "CAGTAGTACC 3\n",
      "GTAGCCCACA 3\n",
      "ACACCGGGTA 2\n",
      "CAGTAGCCCA 2\n",
      "ACACAGCCCC 2\n",
      "AGTAGTAGGC 2\n",
      "AGTAGTACCG 2\n",
      "TAGCCCACAC 2\n",
      "AGTAGCCCAC 2\n",
      "CAGTAGTAGG 2\n",
      "CCGGGTACAC 1\n",
      "ACCGGGTACA 1\n",
      "CACCGGGTAC 1\n"
     ]
    }
   ],
   "source": [
    "'''\n",
    "Frequent Words with Mismatches Problem: Find the most frequent k-mers with mismatches in a string.\n",
    "Input: A string Text as well as integers k and d. (You may assume k ≤ 12 and d ≤ 3.)\n",
    "Output: All most frequent k-mers with up to d mismatches in Text.\n",
    "'''\n",
    "from collections import OrderedDict\n",
    "from operator import itemgetter\n",
    "\n",
    "def kmers_finder_with_mismatches(sequence, motif_length, max_mismatches, most_common=False):\n",
    "\t'''(str, int, int) -> sorted(list)\n",
    "\tFind the most frequent k-mers with mismatches in a string.\n",
    "\tInput: A sequence and a pair of integers: motif_length (<=12) and max_mismatch (<= 3).\n",
    "\tOutput: An OrderedDict containing all k-mers with up to d mismatches in string.\n",
    "\tIf most_common: return only the most represented kmer(s).\n",
    "\tSample Input:\tACGTTGCATGTCGCATGATGCATGAGAGCT 4 1\n",
    "\tSample Output:\tOrderedDict([('ATGC', 5), ('ATGT', 5), ('GATG', 5),...])\n",
    "\t'''\n",
    "\n",
    "\t#check passed variables\n",
    "\tif not motif_length <= 12 and motif_length >= 1:\n",
    "\t\traise ValueError(\"motif_length must be between 0 and 12. {} was passed.\".format(motif_length))\n",
    "\tif not max_mismatches <= 3 and max_mismatches >= 1:\n",
    "\t\traise ValueError(\"max_mismatch must be between 0 and 3. {} was passed.\".format(max_mismatches))\n",
    "\n",
    "\t#build a dict of motifs/kmers\n",
    "\tmotif_dict = {}\n",
    "\tfor i in range(len(sequence) - motif_length +1):\n",
    "\t\tmotif = sequence[i:i+motif_length]\n",
    "\t\tif motif not in motif_dict:\n",
    "\t\t\tmotif_dict[motif] = 1\n",
    "\t\telse:\n",
    "\t\t\tmotif_dict[motif] += 1\n",
    "\n",
    "\t#check for mismatches\n",
    "\tmotif_dict_with_mismatches = {}\n",
    "\tfor kmer in motif_dict:\n",
    "\t\tmotif_dict_with_mismatches.update({kmer:[]})\n",
    "\t\t\t\n",
    "\t\tfor other_kmer in motif_dict:\n",
    "\t\t\tmismatches = 0\n",
    "\t\t\tfor i in range(len(kmer)):\n",
    "\t\t\t\tif kmer[i] != other_kmer[i]:\n",
    "\t\t\t\t\tmismatches += 1\n",
    "\t\t\tif mismatches <= max_mismatches:\n",
    "\t\t\t\tmotif_dict_with_mismatches[kmer].append([other_kmer,motif_dict[other_kmer]])\n",
    "\n",
    "\t#count occurrences of motifs\n",
    "\ttmp = {}\n",
    "\tfor item in motif_dict_with_mismatches:\n",
    "\t\tcount = 0\n",
    "\t\tfor motif in motif_dict_with_mismatches[item]:\n",
    "\t\t\tcount += motif[-1]\n",
    "\t\ttmp.update({item:count})\n",
    "\n",
    "\tresult = OrderedDict(sorted(tmp.items(), key=itemgetter(1), reverse=True))\n",
    "\t\n",
    "\t#find the most common/s\n",
    "\tif most_common:\n",
    "\t\tcommons = OrderedDict()\n",
    "\t\t_max = result.items()[0][1]\n",
    "\t\tfor item in result:\n",
    "\t\t\tif result[item] == _max:\n",
    "\t\t\t\tcommons.update({item:result[item]})\n",
    "\t\t\telse:\n",
    "\t\t\t\treturn commons\n",
    "\n",
    "\treturn result\n",
    "\n",
    "\n",
    "##Test\n",
    "sequence = 'CACAGTAGGCGCCGGCACACACAGCCCCGGGCCCCGGGCCGCCCCGGGCCGGCGGCCGCCGGCGCCGGCACACCGGCACAGCCGTACCGGCACAGTAGTACCGGCCGGCCGGCACACCGGCACACCGGGTACACACCGGGGCGCACACACAGGCGGGCGCCGGGCCCCGGGCCGTACCGGGCCGCCGGCGGCCCACAGGCGCCGGCACAGTACCGGCACACACAGTAGCCCACACACAGGCGGGCGGTAGCCGGCGCACACACACACAGTAGGCGCACAGCCGCCCACACACACCGGCCGGCCGGCACAGGCGGGCGGGCGCACACACACCGGCACAGTAGTAGGCGGCCGGCGCACAGCC'\n",
    "motif_length = 10\n",
    "max_mismatches = 2\n",
    "a = kmers_finder_with_mismatches(dataset, motif_length, max_mismatches, most_common=False)\n",
    "for key in a:\n",
    "\tprint (key, a[key])\n",
    "#('C', 'G', 'G', 'C', 'C', 'G', 'C', 'C', 'G', 'G')\n",
    "#('C', 'G', 'G', 'G', 'C', 'G', 'G', 'C', 'G', 'G')"
   ]
  },
  {
   "cell_type": "code",
   "execution_count": 6,
   "metadata": {
    "collapsed": false
   },
   "outputs": [
    {
     "data": {
      "text/plain": [
       "254"
      ]
     },
     "execution_count": 6,
     "metadata": {},
     "output_type": "execute_result"
    }
   ],
   "source": [
    "len(a)"
   ]
  },
  {
   "cell_type": "code",
   "execution_count": 11,
   "metadata": {
    "collapsed": false
   },
   "outputs": [
    {
     "data": {
      "text/plain": [
       "15"
      ]
     },
     "execution_count": 11,
     "metadata": {},
     "output_type": "execute_result"
    }
   ],
   "source": [
    "a['CGGCCGCCGG']"
   ]
  },
  {
   "cell_type": "code",
   "execution_count": 12,
   "metadata": {
    "collapsed": true
   },
   "outputs": [],
   "source": [
    "def kmer_count(dna, k, minimum_percentage):\n",
    "    total_kmers = len(dna) - k + 1\n",
    "    # first assemble dict of kmer counts\n",
    "    kmer2count = {}\n",
    "    for x in range(len(dna)+1-k):\n",
    "        kmer = dna[x:x+k]\n",
    "        kmer2count[kmer] = kmer2count.get(kmer, 0) + 1\n",
    " \n",
    "    # now select just the high-count kmers\n",
    "    for kmer, count in kmer2count.items():\n",
    "        percentage = (count / float(total_kmers)) * 100\n",
    "        if percentage < minimum_percentage:\n",
    "            del kmer2count[kmer]\n",
    " \n",
    "    return(kmer2count)"
   ]
  },
  {
   "cell_type": "code",
   "execution_count": 13,
   "metadata": {
    "collapsed": true
   },
   "outputs": [],
   "source": [
    "w=kmer_count(dataset, 10, 0)"
   ]
  },
  {
   "cell_type": "code",
   "execution_count": 15,
   "metadata": {
    "collapsed": false
   },
   "outputs": [
    {
     "data": {
      "text/plain": [
       "254"
      ]
     },
     "execution_count": 15,
     "metadata": {},
     "output_type": "execute_result"
    }
   ],
   "source": [
    "len(w)"
   ]
  },
  {
   "cell_type": "code",
   "execution_count": 26,
   "metadata": {
    "collapsed": false
   },
   "outputs": [],
   "source": [
    "from collections import defaultdict\n",
    "#from itertools import izip\n",
    "\n",
    "def all_kmers(text, k):\n",
    "    return {text[i:i + k] for i in range(len(text) - k + 1)}\n",
    "\n",
    "\n",
    "def most_frequent_approximate_kmers(text, k, d, add_rc=False):\n",
    "    \"\"\"Frequent Words with Mismatches Problem: Find the most frequent k-mers with mismatches in a string.\n",
    "     Input: A string Text as well as integers k and d. (You may assume k ≤ 12 and d ≤ 3.)\n",
    "     Output: All most frequent `k`-mers with up to `d` mismatches in `text`.\n",
    "    \"\"\"\n",
    "\n",
    "    kmer_set = all_kmers(text, k)\n",
    "    # if add_rc:\n",
    "    #     kmer_set = kmer_set | {reverse_complement(kmer) for kmer in kmer_set}\n",
    "\n",
    "    approx_kmer_set = kmer_set.copy()\n",
    "\n",
    "    for _ in range(d):\n",
    "        print('@@1', len(approx_kmer_set))\n",
    "        approx_kmer_set0 = approx_kmer_set.copy()\n",
    "        for kmer in approx_kmer_set0:\n",
    "            for j in range(k):\n",
    "                for c in 'ATCG':\n",
    "                    approx_kmer_set.add(''.join(kmer[:j] + c + kmer[j + 1:]))\n",
    "\n",
    "    kmer_cnts = defaultdict(int)\n",
    "    #kmer_cnts_rc = defaultdict(int)\n",
    "    for i in range(len(text) - k + 1):\n",
    "        kmer = text[i:i + k]\n",
    "        kmer_cnts[kmer] += 1\n",
    "        if add_rc:\n",
    "            kmer_rc = reverse_complement(kmer)\n",
    "            kmer_cnts[kmer_rc] += 1 # WE double count self-complements\n",
    "\n",
    "    print('@@2', len(kmer_cnts))\n",
    "    max_cnt = 0\n",
    "\n",
    "    if False:\n",
    "        #approx_kmer_dict = {}\n",
    "        approx_kmer_cnts = {}\n",
    "\n",
    "        for kmer in approx_kmer_set:\n",
    "            neighbors = {kmer}\n",
    "            for _ in range(d):\n",
    "                neighbors0 = neighbors.copy()\n",
    "                for kmer2 in neighbors0:\n",
    "                    for j in range(k):\n",
    "                        for c in 'ATCG':\n",
    "                            neighbors.add(''.join(kmer2[:j] + c + kmer2[j + 1:]))\n",
    "            #approx_kmer_dict[kmer] = neighbors\n",
    "            if not neighbors:\n",
    "                continue\n",
    "            total = sum(kmer_cnts.get(n, 0) for n in neighbors)\n",
    "            if total > max_cnt:\n",
    "                approx_kmer_cnts[kmer] = total\n",
    "                #print((kmer, total))\n",
    "                max_cnt = total\n",
    "\n",
    "        max_cnt = max(approx_kmer_cnts.values())\n",
    "\n",
    "    else:\n",
    "        max_cnt = max(kmer_cnts.values())\n",
    "        approx_kmer_cnts = {}\n",
    "        for kmer in approx_kmer_set:\n",
    "            cnt = 0\n",
    "            for kmer2, cnt2 in kmer_cnts.items():\n",
    "                # About twice as fast to short circuit as to sum()\n",
    "                matched = True\n",
    "                mismatches = 0\n",
    "                for i in range(k):\n",
    "                    if kmer2[i] != kmer[i]:\n",
    "                        mismatches += 1\n",
    "                        if mismatches > d:\n",
    "                            matched = False\n",
    "                            break\n",
    "                if matched:\n",
    "                #if sum(c2 != c for c2, c in izip(kmer2, kmer)) <= d:\n",
    "                    cnt += cnt2\n",
    "            # for kmer2, cnt2 in kmer_cnts_rc.items():\n",
    "            #     if sum(c2 != c for c2, c in izip(kmer2, kmer)) <= d:\n",
    "            #         cnt += cnt2\n",
    "            if cnt >= max_cnt:\n",
    "                approx_kmer_cnts[kmer] = cnt\n",
    "            if cnt > max_cnt:\n",
    "                max_cnt = cnt\n",
    "\n",
    "    frequent_kmers = [kmer for kmer, cnt in approx_kmer_cnts.items() if cnt == max_cnt]\n",
    "\n",
    "    # WE include complements in results\n",
    "    if add_rc and False:\n",
    "        frequent_kmers_uniq = set()\n",
    "        for kmer in frequent_kmers:\n",
    "            if kmer not in frequent_kmers_uniq and reverse_complement(kmer) not in frequent_kmers_uniq:\n",
    "                frequent_kmers_uniq.add(kmer)\n",
    "        frequent_kmers = list(frequent_kmers_uniq)\n",
    "\n",
    "    frequent_kmers.sort()\n",
    "    print('***', max(kmer_cnts.values()), len(text) - k + 1, len(kmer_cnts), len(approx_kmer_cnts))\n",
    "    for kmer in sorted(approx_kmer_cnts.keys(), key=lambda k: -approx_kmer_cnts[k])[:5]:\n",
    "        cnt = approx_kmer_cnts[kmer]\n",
    "        print(kmer, cnt, kmer in kmer_set)\n",
    "    return frequent_kmers"
   ]
  },
  {
   "cell_type": "code",
   "execution_count": 31,
   "metadata": {
    "collapsed": false
   },
   "outputs": [
    {
     "name": "stdout",
     "output_type": "stream",
     "text": [
      "@@1 254\n",
      "@@1 6786\n",
      "@@2 254\n",
      "*** 4 352 254 13\n",
      "GCACACAGAC 20 False\n",
      "GCGCACACAC 20 True\n",
      "CCACACACAC 17 True\n",
      "GCCGGCGCGC 13 False\n",
      "GGGCACACAC 13 False\n"
     ]
    }
   ],
   "source": [
    "seq='AACAAGCTGATAAACATTTAAAGAG'\n",
    "rr=most_frequent_approximate_kmers(dataset, 10, 2, add_rc=False)"
   ]
  },
  {
   "cell_type": "code",
   "execution_count": 33,
   "metadata": {
    "collapsed": false
   },
   "outputs": [],
   "source": [
    "a=all_kmers(dataset, 10)"
   ]
  },
  {
   "cell_type": "code",
   "execution_count": 34,
   "metadata": {
    "collapsed": false
   },
   "outputs": [
    {
     "data": {
      "text/plain": [
       "254"
      ]
     },
     "execution_count": 34,
     "metadata": {},
     "output_type": "execute_result"
    }
   ],
   "source": [
    "len(a)"
   ]
  },
  {
   "cell_type": "code",
   "execution_count": 35,
   "metadata": {
    "collapsed": false
   },
   "outputs": [
    {
     "ename": "NameError",
     "evalue": "name 'kmer_set' is not defined",
     "output_type": "error",
     "traceback": [
      "\u001b[0;31m---------------------------------------------------------------------------\u001b[0m",
      "\u001b[0;31mNameError\u001b[0m                                 Traceback (most recent call last)",
      "\u001b[0;32m<ipython-input-35-472758ed602f>\u001b[0m in \u001b[0;36m<module>\u001b[0;34m()\u001b[0m\n\u001b[0;32m----> 1\u001b[0;31m \u001b[0mapprox_kmer_set\u001b[0m \u001b[0;34m=\u001b[0m \u001b[0mkmer_set\u001b[0m\u001b[0;34m.\u001b[0m\u001b[0mcopy\u001b[0m\u001b[0;34m(\u001b[0m\u001b[0;34m)\u001b[0m\u001b[0;34m\u001b[0m\u001b[0m\n\u001b[0m",
      "\u001b[0;31mNameError\u001b[0m: name 'kmer_set' is not defined"
     ]
    }
   ],
   "source": [
    "approx_kmer_set = kmer_set.copy()"
   ]
  },
  {
   "cell_type": "code",
   "execution_count": 87,
   "metadata": {
    "collapsed": false
   },
   "outputs": [
    {
     "name": "stdout",
     "output_type": "stream",
     "text": [
      "5803 GCGCACACAC 20\n",
      "52647 GCACACAGAC 20\n"
     ]
    }
   ],
   "source": [
    "import collections\n",
    "import itertools\n",
    "in_mistake=2\n",
    "in_genome=dataset\n",
    "in_kmer=10\n",
    "distinct_letters = \"\".join(set(in_genome))\n",
    "\n",
    "def diff_letters(a,b):\n",
    "    count = 0\n",
    "    for i in range(len(a)):\n",
    "        if(a[i] != b[i]):\n",
    "            count +=1\n",
    "    if(count>in_mistake):\n",
    "        return False\n",
    "    else:\n",
    "        return True\n",
    "\n",
    "genomes = [in_genome[i:i+in_kmer] for i in range(0, len(in_genome), 1) if len(in_genome[i:i+in_kmer]) ==in_kmer]\n",
    "patterns = map(\"\".join, itertools.product(distinct_letters, repeat=in_kmer))\n",
    "\n",
    "mis_patterns=collections.defaultdict(list)\n",
    "max_count =0\n",
    "for i,iv in enumerate(patterns):\n",
    "    count = 0\n",
    "    for j,jv in enumerate(genomes):\n",
    "        if diff_letters(iv,jv):\n",
    "            count+=1\n",
    "            mis_patterns[iv]=count\n",
    "            if count>0 and count>max_count:\n",
    "                max_count = count\n",
    "\n",
    "for i,p in enumerate(mis_patterns):\n",
    "    if mis_patterns[p]==max_count:\n",
    "        print (i,p, mis_patterns[p])"
   ]
  },
  {
   "cell_type": "code",
   "execution_count": 84,
   "metadata": {
    "collapsed": false
   },
   "outputs": [],
   "source": [
    "wtr=[in_genome[i:i+in_kmer] for i in range(0, len(in_genome), 1) if len(in_genome[i:i+in_kmer]) ==in_kmer]"
   ]
  },
  {
   "cell_type": "code",
   "execution_count": 85,
   "metadata": {
    "collapsed": false
   },
   "outputs": [
    {
     "data": {
      "text/plain": [
       "352"
      ]
     },
     "execution_count": 85,
     "metadata": {},
     "output_type": "execute_result"
    }
   ],
   "source": [
    "len(wtr)"
   ]
  },
  {
   "cell_type": "code",
   "execution_count": 70,
   "metadata": {
    "collapsed": false
   },
   "outputs": [
    {
     "data": {
      "text/plain": [
       "361"
      ]
     },
     "execution_count": 70,
     "metadata": {},
     "output_type": "execute_result"
    }
   ],
   "source": [
    "len(dataset)"
   ]
  },
  {
   "cell_type": "code",
   "execution_count": 72,
   "metadata": {
    "collapsed": false
   },
   "outputs": [
    {
     "ename": "TypeError",
     "evalue": "'enumerate' object is not subscriptable",
     "output_type": "error",
     "traceback": [
      "\u001b[0;31m---------------------------------------------------------------------------\u001b[0m",
      "\u001b[0;31mTypeError\u001b[0m                                 Traceback (most recent call last)",
      "\u001b[0;32m<ipython-input-72-cff2ebf7bbdb>\u001b[0m in \u001b[0;36m<module>\u001b[0;34m()\u001b[0m\n\u001b[0;32m----> 1\u001b[0;31m \u001b[0menumerate\u001b[0m\u001b[0;34m(\u001b[0m\u001b[0mgenomes\u001b[0m\u001b[0;34m)\u001b[0m\u001b[0;34m[\u001b[0m\u001b[0;36m0\u001b[0m\u001b[0;34m]\u001b[0m\u001b[0;34m\u001b[0m\u001b[0m\n\u001b[0m",
      "\u001b[0;31mTypeError\u001b[0m: 'enumerate' object is not subscriptable"
     ]
    }
   ],
   "source": [
    "enumerate(genomes)"
   ]
  },
  {
   "cell_type": "code",
   "execution_count": null,
   "metadata": {
    "collapsed": true
   },
   "outputs": [],
   "source": []
  }
 ],
 "metadata": {
  "kernelspec": {
   "display_name": "Python [conda env:bioinformatics]",
   "language": "python",
   "name": "conda-env-bioinformatics-py"
  },
  "language_info": {
   "codemirror_mode": {
    "name": "ipython",
    "version": 3
   },
   "file_extension": ".py",
   "mimetype": "text/x-python",
   "name": "python",
   "nbconvert_exporter": "python",
   "pygments_lexer": "ipython3",
   "version": "3.4.5"
  }
 },
 "nbformat": 4,
 "nbformat_minor": 1
}
