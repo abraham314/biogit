{
 "cells": [
  {
   "cell_type": "code",
   "execution_count": 1,
   "metadata": {
    "collapsed": true
   },
   "outputs": [],
   "source": [
    "import pandas as pd\n",
    "import numpy as np\n",
    "from collections import Counter \n",
    "#from Bio.Seq import Seq \n",
    "import itertools as itr \n",
    "import distance \n",
    "import datetime\n",
    "from itertools import combinations"
   ]
  },
  {
   "cell_type": "markdown",
   "metadata": {},
   "source": [
    "debemos buscar aquella cadena k=10 posiciones que más se repite dentro de dataset con d=2 mismatches de la siguiente cadena: "
   ]
  },
  {
   "cell_type": "code",
   "execution_count": 3,
   "metadata": {
    "collapsed": true
   },
   "outputs": [],
   "source": [
    "dataset='CACAGTAGGCGCCGGCACACACAGCCCCGGGCCCCGGGCCGCCCCGGGCCGGCGGCCGCCGGCGCCGGCACACCGGCACAGCCGTACCGGCACAGTAGTACCGGCCGGCCGGCACACCGGCACACCGGGTACACACCGGGGCGCACACACAGGCGGGCGCCGGGCCCCGGGCCGTACCGGGCCGCCGGCGGCCCACAGGCGCCGGCACAGTACCGGCACACACAGTAGCCCACACACAGGCGGGCGGTAGCCGGCGCACACACACACAGTAGGCGCACAGCCGCCCACACACACCGGCCGGCCGGCACAGGCGGGCGGGCGCACACACACCGGCACAGTAGTAGGCGGCCGGCGCACAGCC'\n"
   ]
  },
  {
   "cell_type": "markdown",
   "metadata": {},
   "source": [
    "Generamos todas las cadenas de tamaño k=10 consecutivas que existen dentro de la secuencia:"
   ]
  },
  {
   "cell_type": "code",
   "execution_count": 3,
   "metadata": {
    "collapsed": false
   },
   "outputs": [
    {
     "data": {
      "text/plain": [
       "['CACAGTAGGC', 'ACAGTAGGCG', 'CAGTAGGCGC', 'AGTAGGCGCC', 'GTAGGCGCCG']"
      ]
     },
     "execution_count": 3,
     "metadata": {},
     "output_type": "execute_result"
    }
   ],
   "source": [
    "kmers = [dataset[i:i+10] for i in range(len(dataset)-9)]\n",
    "kmers[0:5]"
   ]
  },
  {
   "cell_type": "code",
   "execution_count": 4,
   "metadata": {
    "collapsed": false
   },
   "outputs": [
    {
     "data": {
      "text/plain": [
       "352"
      ]
     },
     "execution_count": 4,
     "metadata": {},
     "output_type": "execute_result"
    }
   ],
   "source": [
    "len(kmers)"
   ]
  },
  {
   "cell_type": "markdown",
   "metadata": {},
   "source": [
    "existen 352 secuencias de k=10 posiciones dentro de dataset"
   ]
  },
  {
   "cell_type": "markdown",
   "metadata": {},
   "source": [
    "# Metodología"
   ]
  },
  {
   "cell_type": "markdown",
   "metadata": {},
   "source": [
    "Paso1.- vamos a generar un diccionario con las cadenas de k=10 posiciones únicas con su respectiva frecuencia de apariciones dentro de dataset."
   ]
  },
  {
   "cell_type": "code",
   "execution_count": 5,
   "metadata": {
    "collapsed": true
   },
   "outputs": [],
   "source": [
    "initcount  = Counter(kmers) #contamos el número de veces que aparece cada secuencia de k=10 en dataset\n",
    "kmer2count = dict(initcount) #tenemos un dictionario de cadenas con sus frecuencias como valores"
   ]
  },
  {
   "cell_type": "markdown",
   "metadata": {
    "collapsed": false
   },
   "source": [
    "obtenemos un diccionario:\n",
    "\n",
    "{'ACACACACAC': 1,\n",
    " 'ACACACACAG': 1,\n",
    " 'ACACACACCG': 2, ...."
   ]
  },
  {
   "cell_type": "markdown",
   "metadata": {
    "collapsed": true
   },
   "source": [
    "Paso 2.-para cada $$ s \\in dataset$$ vamos a generar un conjunto de secuencias $$s'=(s'_{1},...,s'_{n})$$ tales que $$ d(s,s'_{i})<=2 \\ \\forall s'_{i} \\in s' \\ and \\ s'_{i}\\ne s $$  se genera dicha función:"
   ]
  },
  {
   "cell_type": "code",
   "execution_count": 6,
   "metadata": {
    "collapsed": true
   },
   "outputs": [],
   "source": [
    "from itertools import combinations, product\n",
    "\n",
    "def generate(s, d):\n",
    "    N = len(s)\n",
    "    letters = 'ACGT'\n",
    "    pool = list(s)\n",
    "\n",
    "    for indices in combinations(range(N), d):\n",
    "        for replacements in product(letters, repeat=d):\n",
    "            skip = False\n",
    "            for i, a in zip(indices, replacements):\n",
    "                if pool[i] == a: skip = True\n",
    "            if skip: continue\n",
    "\n",
    "            keys = dict(zip(indices, replacements))\n",
    "            yield ''.join([pool[i] if i not in indices else keys[i] \n",
    "                           for i in range(N)])"
   ]
  },
  {
   "cell_type": "markdown",
   "metadata": {},
   "source": [
    "Paso 3.- al momento de tener $$s'=(s'_{1},...,s'_{n})$$ vamos a revisar si $$ s'_{i} \\in kmer2count?$$ es decir si la secuencia generada está o no dentro del diccionario y entonces tenemos que $$ si \\ [s'_{i }:n] \\in kmer2count \\ entonces \\ [s'_{i}:n+1]$$ sumamos 1 al valor de la cadena en el diccionario si no está en kmer2count entonces lo agregamos al diccionario kmer2count con valor 1 $$[s'_{i}:1]$$"
   ]
  },
  {
   "cell_type": "markdown",
   "metadata": {},
   "source": [
    "paso2 y 3 se hace en cada iteración es decir mientras se va recorriendo la secuencia dataset de 10 en 10 de tal modo que al finalizar el recorrido ya tenemos los conteos finales para todas las cadenas de tamaño 10 con mismatch 2."
   ]
  },
  {
   "cell_type": "code",
   "execution_count": 7,
   "metadata": {
    "collapsed": false
   },
   "outputs": [
    {
     "name": "stdout",
     "output_type": "stream",
     "text": [
      "GCGCACACAC   20 pertenece a la secuencia: True\n",
      "GCACACAGAC   20 pertenece a la secuencia: False\n",
      "tiempo total:  0:00:01.080404\n"
     ]
    }
   ],
   "source": [
    "now=datetime.datetime.now()\n",
    "\n",
    "\n",
    "for k in range(len(kmers)):\n",
    "    aux=list(generate(list(kmers)[k],2))+list(generate(list(kmers)[k],1)) #pso 2 para cada s en kmers\n",
    "    #generate(list(kmers)[k],2) genera todas las cadenas con un mismatch exacto de 2 por ello agregamos \n",
    "    #los mismatch de 1 usando generate(list(kmers)[k],1)\n",
    "    \n",
    "    for w in range(len(aux)):\n",
    "        \n",
    "        if aux[w] in kmer2count:\n",
    "            kmer2count[aux[w]]+=1    #paso 3 para toda s' generada por s \n",
    "        else:\n",
    "            kmer2count[aux[w]] = 1\n",
    "#    print(k,len(list(kmer2count)),len(aux),a in aux,a in kmer2count,len(Counter(list(kmer2count))))\n",
    "z=list(kmer2count)\n",
    "q=np.array(list(kmer2count.values()))\n",
    "v=np.where(q==max(q))[0]\n",
    "for n in range(len(v)):\n",
    "    print(z[v[n]],\" \",q[v[n]],\"pertenece a la secuencia:\",z[v[n]] in kmers)\n",
    "\n",
    "fin=datetime.datetime.now()\n",
    "print(\"tiempo total: \",fin-now) "
   ]
  },
  {
   "cell_type": "markdown",
   "metadata": {},
   "source": [
    "la salida imprime la(s) cadena(s) más frecuentes y además indica si esta(s) está(n) o no en la secuencia original. \n",
    "tiempo total: 1 seg\n",
    "respuestas:\n",
    "GCGCACACAC \n",
    "GCACACAGAC\n",
    "cadenas más frecuentes."
   ]
  },
  {
   "cell_type": "code",
   "execution_count": 8,
   "metadata": {
    "collapsed": true
   },
   "outputs": [],
   "source": [
    "def kmers_mm(s,k,d):\n",
    "    kmers = [s[i:i+k] for i in range(len(s)+k-1)] \n",
    "    initcount  = Counter(kmers) #contamos el número de veces que aparece cada secuencia de k=10 en dataset\n",
    "    kmer2count = dict(initcount) #tenemos un dictionario de cadenas con sus frecuencias como valores\n",
    "    for k in range(len(kmers)):\n",
    "        aux=list(generate(list(kmers)[k],2))+list(generate(list(kmers)[k],1)) #pso 2 para cada s en kmers\n",
    "        #generate(list(kmers)[k],2) genera todas las cadenas con un mismatch exacto de 2 por ello agregamos \n",
    "        #los mismatch de 1 usando generate(list(kmers)[k],1)        \n",
    "    \n",
    "        for w in range(len(aux)):\n",
    "        \n",
    "            if aux[w] in kmer2count: #si está en el diccionario suma 1\n",
    "                kmer2count[aux[w]]+=1    #paso 3 para toda s' generada por s \n",
    "            else:\n",
    "                kmer2count[aux[w]] = 1 #si o está agrégalo\n",
    "#    print(k,len(list(kmer2count)),len(aux),a in aux,a in kmer2count,len(Counter(list(kmer2count))))\n",
    "    z=list(kmer2count)\n",
    "    q=np.array(list(kmer2count.values()))\n",
    "    v=np.where(q==max(q))[0] #genera los índices de las secuencias con mayor frecuencia\n",
    "    for n in range(len(v)):\n",
    "        print(z[v[n]],\" \",q[v[n]],\"pertenece a la secuencia:\",z[v[n]] in kmers) #resultado\n"
   ]
  },
  {
   "cell_type": "code",
   "execution_count": 9,
   "metadata": {
    "collapsed": false
   },
   "outputs": [
    {
     "name": "stdout",
     "output_type": "stream",
     "text": [
      "GCGCACACAC   20 pertenece a la secuencia: True\n",
      "GCACACAGAC   20 pertenece a la secuencia: False\n",
      "tiempo total:  0:00:01.063843\n"
     ]
    }
   ],
   "source": [
    "#probamos la función completa\n",
    "now=datetime.datetime.now() \n",
    "kmers_mm(dataset,10,2)\n",
    "\n",
    "fin=datetime.datetime.now()\n",
    "print(\"tiempo total: \",fin-now) "
   ]
  },
  {
   "cell_type": "code",
   "execution_count": null,
   "metadata": {
    "collapsed": true
   },
   "outputs": [],
   "source": []
  }
 ],
 "metadata": {
  "anaconda-cloud": {},
  "kernelspec": {
   "display_name": "Python [conda env:bioinformatics]",
   "language": "python",
   "name": "conda-env-bioinformatics-py"
  },
  "language_info": {
   "codemirror_mode": {
    "name": "ipython",
    "version": 3
   },
   "file_extension": ".py",
   "mimetype": "text/x-python",
   "name": "python",
   "nbconvert_exporter": "python",
   "pygments_lexer": "ipython3",
   "version": "3.4.5"
  }
 },
 "nbformat": 4,
 "nbformat_minor": 1
}
