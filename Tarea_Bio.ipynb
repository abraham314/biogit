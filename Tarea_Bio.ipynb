{
 "cells": [
  {
   "cell_type": "code",
   "execution_count": 12,
   "metadata": {
    "collapsed": true
   },
   "outputs": [],
   "source": [
    "import pandas as pd\n",
    "import numpy as np\n",
    "from collections import Counter \n",
    "#from Bio.Seq import Seq \n",
    "import itertools as itr \n",
    "import distance \n",
    "import datetime"
   ]
  },
  {
   "cell_type": "markdown",
   "metadata": {},
   "source": [
    "Leemos el archivo:"
   ]
  },
  {
   "cell_type": "code",
   "execution_count": 2,
   "metadata": {
    "collapsed": false
   },
   "outputs": [
    {
     "name": "stdout",
     "output_type": "stream",
     "text": [
      "CPU times: user 0 ns, sys: 4 ms, total: 4 ms\n",
      "Wall time: 173 ms\n"
     ]
    }
   ],
   "source": [
    "%time st=pd.read_csv('/home/mb45296/bioinformatica/S04/Data/data_set.txt')"
   ]
  },
  {
   "cell_type": "code",
   "execution_count": 3,
   "metadata": {
    "collapsed": false
   },
   "outputs": [
    {
     "data": {
      "text/html": [
       "<div>\n",
       "<table border=\"1\" class=\"dataframe\">\n",
       "  <thead>\n",
       "    <tr style=\"text-align: right;\">\n",
       "      <th></th>\n",
       "      <th>CACAGTAGGCGCCGGCACACACAGCCCCGGGCCCCGGGCCGCCCCGGGCCGGCGGCCGCCGGCGCCGGCACACCGGCACAGCCGTACCGGCACAGTAGTACCGGCCGGCCGGCACACCGGCACACCGGGTACACACCGGGGCGCACACACAGGCGGGCGCCGGGCCCCGGGCCGTACCGGGCCGCCGGCGGCCCACAGGCGCCGGCACAGTACCGGCACACACAGTAGCCCACACACAGGCGGGCGGTAGCCGGCGCACACACACACAGTAGGCGCACAGCCGCCCACACACACCGGCCGGCCGGCACAGGCGGGCGGGCGCACACACACCGGCACAGTAGTAGGCGGCCGGCGCACAGCC</th>\n",
       "    </tr>\n",
       "  </thead>\n",
       "  <tbody>\n",
       "  </tbody>\n",
       "</table>\n",
       "</div>"
      ],
      "text/plain": [
       "Empty DataFrame\n",
       "Columns: [CACAGTAGGCGCCGGCACACACAGCCCCGGGCCCCGGGCCGCCCCGGGCCGGCGGCCGCCGGCGCCGGCACACCGGCACAGCCGTACCGGCACAGTAGTACCGGCCGGCCGGCACACCGGCACACCGGGTACACACCGGGGCGCACACACAGGCGGGCGCCGGGCCCCGGGCCGTACCGGGCCGCCGGCGGCCCACAGGCGCCGGCACAGTACCGGCACACACAGTAGCCCACACACAGGCGGGCGGTAGCCGGCGCACACACACACAGTAGGCGCACAGCCGCCCACACACACCGGCCGGCCGGCACAGGCGGGCGGGCGCACACACACCGGCACAGTAGTAGGCGGCCGGCGCACAGCC]\n",
       "Index: []"
      ]
     },
     "execution_count": 3,
     "metadata": {},
     "output_type": "execute_result"
    }
   ],
   "source": [
    "st"
   ]
  },
  {
   "cell_type": "code",
   "execution_count": 2,
   "metadata": {
    "collapsed": true
   },
   "outputs": [],
   "source": [
    "dataset='CACAGTAGGCGCCGGCACACACAGCCCCGGGCCCCGGGCCGCCCCGGGCCGGCGGCCGCCGGCGCCGGCACACCGGCACAGCCGTACCGGCACAGTAGTACCGGCCGGCCGGCACACCGGCACACCGGGTACACACCGGGGCGCACACACAGGCGGGCGCCGGGCCCCGGGCCGTACCGGGCCGCCGGCGGCCCACAGGCGCCGGCACAGTACCGGCACACACAGTAGCCCACACACAGGCGGGCGGTAGCCGGCGCACACACACACAGTAGGCGCACAGCCGCCCACACACACCGGCCGGCCGGCACAGGCGGGCGGGCGCACACACACCGGCACAGTAGTAGGCGGCCGGCGCACAGCC'\n"
   ]
  },
  {
   "cell_type": "code",
   "execution_count": 5,
   "metadata": {
    "collapsed": false
   },
   "outputs": [
    {
     "data": {
      "text/plain": [
       "361"
      ]
     },
     "execution_count": 5,
     "metadata": {},
     "output_type": "execute_result"
    }
   ],
   "source": [
    "len(dataset)"
   ]
  },
  {
   "cell_type": "markdown",
   "metadata": {},
   "source": [
    "Ejercicio:"
   ]
  },
  {
   "cell_type": "code",
   "execution_count": 3,
   "metadata": {
    "collapsed": false
   },
   "outputs": [
    {
     "name": "stdout",
     "output_type": "stream",
     "text": [
      "CPU times: user 0 ns, sys: 0 ns, total: 0 ns\n",
      "Wall time: 963 µs\n"
     ]
    }
   ],
   "source": [
    "%time a=[dataset[i:i+10] for i in range(0, len(dataset), 1) if len(dataset[i:i+10]) ==10]\n",
    "#Counter(dataset[i:i+10] for i in range(len(dataset)-9)) #se generan las secuencias de 10 posiciones dentro de \n",
    "#la cadena"
   ]
  },
  {
   "cell_type": "code",
   "execution_count": 4,
   "metadata": {
    "collapsed": false
   },
   "outputs": [
    {
     "data": {
      "text/plain": [
       "['CACAGTAGGC',\n",
       " 'ACAGTAGGCG',\n",
       " 'CAGTAGGCGC',\n",
       " 'AGTAGGCGCC',\n",
       " 'GTAGGCGCCG',\n",
       " 'TAGGCGCCGG',\n",
       " 'AGGCGCCGGC',\n",
       " 'GGCGCCGGCA',\n",
       " 'GCGCCGGCAC',\n",
       " 'CGCCGGCACA',\n",
       " 'GCCGGCACAC',\n",
       " 'CCGGCACACA',\n",
       " 'CGGCACACAC',\n",
       " 'GGCACACACA',\n",
       " 'GCACACACAG',\n",
       " 'CACACACAGC',\n",
       " 'ACACACAGCC',\n",
       " 'CACACAGCCC',\n",
       " 'ACACAGCCCC',\n",
       " 'CACAGCCCCG',\n",
       " 'ACAGCCCCGG',\n",
       " 'CAGCCCCGGG',\n",
       " 'AGCCCCGGGC',\n",
       " 'GCCCCGGGCC',\n",
       " 'CCCCGGGCCC',\n",
       " 'CCCGGGCCCC',\n",
       " 'CCGGGCCCCG',\n",
       " 'CGGGCCCCGG',\n",
       " 'GGGCCCCGGG',\n",
       " 'GGCCCCGGGC',\n",
       " 'GCCCCGGGCC',\n",
       " 'CCCCGGGCCG',\n",
       " 'CCCGGGCCGC',\n",
       " 'CCGGGCCGCC',\n",
       " 'CGGGCCGCCC',\n",
       " 'GGGCCGCCCC',\n",
       " 'GGCCGCCCCG',\n",
       " 'GCCGCCCCGG',\n",
       " 'CCGCCCCGGG',\n",
       " 'CGCCCCGGGC',\n",
       " 'GCCCCGGGCC',\n",
       " 'CCCCGGGCCG',\n",
       " 'CCCGGGCCGG',\n",
       " 'CCGGGCCGGC',\n",
       " 'CGGGCCGGCG',\n",
       " 'GGGCCGGCGG',\n",
       " 'GGCCGGCGGC',\n",
       " 'GCCGGCGGCC',\n",
       " 'CCGGCGGCCG',\n",
       " 'CGGCGGCCGC',\n",
       " 'GGCGGCCGCC',\n",
       " 'GCGGCCGCCG',\n",
       " 'CGGCCGCCGG',\n",
       " 'GGCCGCCGGC',\n",
       " 'GCCGCCGGCG',\n",
       " 'CCGCCGGCGC',\n",
       " 'CGCCGGCGCC',\n",
       " 'GCCGGCGCCG',\n",
       " 'CCGGCGCCGG',\n",
       " 'CGGCGCCGGC',\n",
       " 'GGCGCCGGCA',\n",
       " 'GCGCCGGCAC',\n",
       " 'CGCCGGCACA',\n",
       " 'GCCGGCACAC',\n",
       " 'CCGGCACACC',\n",
       " 'CGGCACACCG',\n",
       " 'GGCACACCGG',\n",
       " 'GCACACCGGC',\n",
       " 'CACACCGGCA',\n",
       " 'ACACCGGCAC',\n",
       " 'CACCGGCACA',\n",
       " 'ACCGGCACAG',\n",
       " 'CCGGCACAGC',\n",
       " 'CGGCACAGCC',\n",
       " 'GGCACAGCCG',\n",
       " 'GCACAGCCGT',\n",
       " 'CACAGCCGTA',\n",
       " 'ACAGCCGTAC',\n",
       " 'CAGCCGTACC',\n",
       " 'AGCCGTACCG',\n",
       " 'GCCGTACCGG',\n",
       " 'CCGTACCGGC',\n",
       " 'CGTACCGGCA',\n",
       " 'GTACCGGCAC',\n",
       " 'TACCGGCACA',\n",
       " 'ACCGGCACAG',\n",
       " 'CCGGCACAGT',\n",
       " 'CGGCACAGTA',\n",
       " 'GGCACAGTAG',\n",
       " 'GCACAGTAGT',\n",
       " 'CACAGTAGTA',\n",
       " 'ACAGTAGTAC',\n",
       " 'CAGTAGTACC',\n",
       " 'AGTAGTACCG',\n",
       " 'GTAGTACCGG',\n",
       " 'TAGTACCGGC',\n",
       " 'AGTACCGGCC',\n",
       " 'GTACCGGCCG',\n",
       " 'TACCGGCCGG',\n",
       " 'ACCGGCCGGC',\n",
       " 'CCGGCCGGCC',\n",
       " 'CGGCCGGCCG',\n",
       " 'GGCCGGCCGG',\n",
       " 'GCCGGCCGGC',\n",
       " 'CCGGCCGGCA',\n",
       " 'CGGCCGGCAC',\n",
       " 'GGCCGGCACA',\n",
       " 'GCCGGCACAC',\n",
       " 'CCGGCACACC',\n",
       " 'CGGCACACCG',\n",
       " 'GGCACACCGG',\n",
       " 'GCACACCGGC',\n",
       " 'CACACCGGCA',\n",
       " 'ACACCGGCAC',\n",
       " 'CACCGGCACA',\n",
       " 'ACCGGCACAC',\n",
       " 'CCGGCACACC',\n",
       " 'CGGCACACCG',\n",
       " 'GGCACACCGG',\n",
       " 'GCACACCGGG',\n",
       " 'CACACCGGGT',\n",
       " 'ACACCGGGTA',\n",
       " 'CACCGGGTAC',\n",
       " 'ACCGGGTACA',\n",
       " 'CCGGGTACAC',\n",
       " 'CGGGTACACA',\n",
       " 'GGGTACACAC',\n",
       " 'GGTACACACC',\n",
       " 'GTACACACCG',\n",
       " 'TACACACCGG',\n",
       " 'ACACACCGGG',\n",
       " 'CACACCGGGG',\n",
       " 'ACACCGGGGC',\n",
       " 'CACCGGGGCG',\n",
       " 'ACCGGGGCGC',\n",
       " 'CCGGGGCGCA',\n",
       " 'CGGGGCGCAC',\n",
       " 'GGGGCGCACA',\n",
       " 'GGGCGCACAC',\n",
       " 'GGCGCACACA',\n",
       " 'GCGCACACAC',\n",
       " 'CGCACACACA',\n",
       " 'GCACACACAG',\n",
       " 'CACACACAGG',\n",
       " 'ACACACAGGC',\n",
       " 'CACACAGGCG',\n",
       " 'ACACAGGCGG',\n",
       " 'CACAGGCGGG',\n",
       " 'ACAGGCGGGC',\n",
       " 'CAGGCGGGCG',\n",
       " 'AGGCGGGCGC',\n",
       " 'GGCGGGCGCC',\n",
       " 'GCGGGCGCCG',\n",
       " 'CGGGCGCCGG',\n",
       " 'GGGCGCCGGG',\n",
       " 'GGCGCCGGGC',\n",
       " 'GCGCCGGGCC',\n",
       " 'CGCCGGGCCC',\n",
       " 'GCCGGGCCCC',\n",
       " 'CCGGGCCCCG',\n",
       " 'CGGGCCCCGG',\n",
       " 'GGGCCCCGGG',\n",
       " 'GGCCCCGGGC',\n",
       " 'GCCCCGGGCC',\n",
       " 'CCCCGGGCCG',\n",
       " 'CCCGGGCCGT',\n",
       " 'CCGGGCCGTA',\n",
       " 'CGGGCCGTAC',\n",
       " 'GGGCCGTACC',\n",
       " 'GGCCGTACCG',\n",
       " 'GCCGTACCGG',\n",
       " 'CCGTACCGGG',\n",
       " 'CGTACCGGGC',\n",
       " 'GTACCGGGCC',\n",
       " 'TACCGGGCCG',\n",
       " 'ACCGGGCCGC',\n",
       " 'CCGGGCCGCC',\n",
       " 'CGGGCCGCCG',\n",
       " 'GGGCCGCCGG',\n",
       " 'GGCCGCCGGC',\n",
       " 'GCCGCCGGCG',\n",
       " 'CCGCCGGCGG',\n",
       " 'CGCCGGCGGC',\n",
       " 'GCCGGCGGCC',\n",
       " 'CCGGCGGCCC',\n",
       " 'CGGCGGCCCA',\n",
       " 'GGCGGCCCAC',\n",
       " 'GCGGCCCACA',\n",
       " 'CGGCCCACAG',\n",
       " 'GGCCCACAGG',\n",
       " 'GCCCACAGGC',\n",
       " 'CCCACAGGCG',\n",
       " 'CCACAGGCGC',\n",
       " 'CACAGGCGCC',\n",
       " 'ACAGGCGCCG',\n",
       " 'CAGGCGCCGG',\n",
       " 'AGGCGCCGGC',\n",
       " 'GGCGCCGGCA',\n",
       " 'GCGCCGGCAC',\n",
       " 'CGCCGGCACA',\n",
       " 'GCCGGCACAG',\n",
       " 'CCGGCACAGT',\n",
       " 'CGGCACAGTA',\n",
       " 'GGCACAGTAC',\n",
       " 'GCACAGTACC',\n",
       " 'CACAGTACCG',\n",
       " 'ACAGTACCGG',\n",
       " 'CAGTACCGGC',\n",
       " 'AGTACCGGCA',\n",
       " 'GTACCGGCAC',\n",
       " 'TACCGGCACA',\n",
       " 'ACCGGCACAC',\n",
       " 'CCGGCACACA',\n",
       " 'CGGCACACAC',\n",
       " 'GGCACACACA',\n",
       " 'GCACACACAG',\n",
       " 'CACACACAGT',\n",
       " 'ACACACAGTA',\n",
       " 'CACACAGTAG',\n",
       " 'ACACAGTAGC',\n",
       " 'CACAGTAGCC',\n",
       " 'ACAGTAGCCC',\n",
       " 'CAGTAGCCCA',\n",
       " 'AGTAGCCCAC',\n",
       " 'GTAGCCCACA',\n",
       " 'TAGCCCACAC',\n",
       " 'AGCCCACACA',\n",
       " 'GCCCACACAC',\n",
       " 'CCCACACACA',\n",
       " 'CCACACACAG',\n",
       " 'CACACACAGG',\n",
       " 'ACACACAGGC',\n",
       " 'CACACAGGCG',\n",
       " 'ACACAGGCGG',\n",
       " 'CACAGGCGGG',\n",
       " 'ACAGGCGGGC',\n",
       " 'CAGGCGGGCG',\n",
       " 'AGGCGGGCGG',\n",
       " 'GGCGGGCGGT',\n",
       " 'GCGGGCGGTA',\n",
       " 'CGGGCGGTAG',\n",
       " 'GGGCGGTAGC',\n",
       " 'GGCGGTAGCC',\n",
       " 'GCGGTAGCCG',\n",
       " 'CGGTAGCCGG',\n",
       " 'GGTAGCCGGC',\n",
       " 'GTAGCCGGCG',\n",
       " 'TAGCCGGCGC',\n",
       " 'AGCCGGCGCA',\n",
       " 'GCCGGCGCAC',\n",
       " 'CCGGCGCACA',\n",
       " 'CGGCGCACAC',\n",
       " 'GGCGCACACA',\n",
       " 'GCGCACACAC',\n",
       " 'CGCACACACA',\n",
       " 'GCACACACAC',\n",
       " 'CACACACACA',\n",
       " 'ACACACACAC',\n",
       " 'CACACACACA',\n",
       " 'ACACACACAG',\n",
       " 'CACACACAGT',\n",
       " 'ACACACAGTA',\n",
       " 'CACACAGTAG',\n",
       " 'ACACAGTAGG',\n",
       " 'CACAGTAGGC',\n",
       " 'ACAGTAGGCG',\n",
       " 'CAGTAGGCGC',\n",
       " 'AGTAGGCGCA',\n",
       " 'GTAGGCGCAC',\n",
       " 'TAGGCGCACA',\n",
       " 'AGGCGCACAG',\n",
       " 'GGCGCACAGC',\n",
       " 'GCGCACAGCC',\n",
       " 'CGCACAGCCG',\n",
       " 'GCACAGCCGC',\n",
       " 'CACAGCCGCC',\n",
       " 'ACAGCCGCCC',\n",
       " 'CAGCCGCCCA',\n",
       " 'AGCCGCCCAC',\n",
       " 'GCCGCCCACA',\n",
       " 'CCGCCCACAC',\n",
       " 'CGCCCACACA',\n",
       " 'GCCCACACAC',\n",
       " 'CCCACACACA',\n",
       " 'CCACACACAC',\n",
       " 'CACACACACC',\n",
       " 'ACACACACCG',\n",
       " 'CACACACCGG',\n",
       " 'ACACACCGGC',\n",
       " 'CACACCGGCC',\n",
       " 'ACACCGGCCG',\n",
       " 'CACCGGCCGG',\n",
       " 'ACCGGCCGGC',\n",
       " 'CCGGCCGGCC',\n",
       " 'CGGCCGGCCG',\n",
       " 'GGCCGGCCGG',\n",
       " 'GCCGGCCGGC',\n",
       " 'CCGGCCGGCA',\n",
       " 'CGGCCGGCAC',\n",
       " 'GGCCGGCACA',\n",
       " 'GCCGGCACAG',\n",
       " 'CCGGCACAGG',\n",
       " 'CGGCACAGGC',\n",
       " 'GGCACAGGCG',\n",
       " 'GCACAGGCGG',\n",
       " 'CACAGGCGGG',\n",
       " 'ACAGGCGGGC',\n",
       " 'CAGGCGGGCG',\n",
       " 'AGGCGGGCGG',\n",
       " 'GGCGGGCGGG',\n",
       " 'GCGGGCGGGC',\n",
       " 'CGGGCGGGCG',\n",
       " 'GGGCGGGCGC',\n",
       " 'GGCGGGCGCA',\n",
       " 'GCGGGCGCAC',\n",
       " 'CGGGCGCACA',\n",
       " 'GGGCGCACAC',\n",
       " 'GGCGCACACA',\n",
       " 'GCGCACACAC',\n",
       " 'CGCACACACA',\n",
       " 'GCACACACAC',\n",
       " 'CACACACACC',\n",
       " 'ACACACACCG',\n",
       " 'CACACACCGG',\n",
       " 'ACACACCGGC',\n",
       " 'CACACCGGCA',\n",
       " 'ACACCGGCAC',\n",
       " 'CACCGGCACA',\n",
       " 'ACCGGCACAG',\n",
       " 'CCGGCACAGT',\n",
       " 'CGGCACAGTA',\n",
       " 'GGCACAGTAG',\n",
       " 'GCACAGTAGT',\n",
       " 'CACAGTAGTA',\n",
       " 'ACAGTAGTAG',\n",
       " 'CAGTAGTAGG',\n",
       " 'AGTAGTAGGC',\n",
       " 'GTAGTAGGCG',\n",
       " 'TAGTAGGCGG',\n",
       " 'AGTAGGCGGC',\n",
       " 'GTAGGCGGCC',\n",
       " 'TAGGCGGCCG',\n",
       " 'AGGCGGCCGG',\n",
       " 'GGCGGCCGGC',\n",
       " 'GCGGCCGGCG',\n",
       " 'CGGCCGGCGC',\n",
       " 'GGCCGGCGCA',\n",
       " 'GCCGGCGCAC',\n",
       " 'CCGGCGCACA',\n",
       " 'CGGCGCACAG',\n",
       " 'GGCGCACAGC',\n",
       " 'GCGCACAGCC']"
      ]
     },
     "execution_count": 4,
     "metadata": {},
     "output_type": "execute_result"
    }
   ],
   "source": [
    "a"
   ]
  },
  {
   "cell_type": "code",
   "execution_count": 5,
   "metadata": {
    "collapsed": false
   },
   "outputs": [
    {
     "data": {
      "text/plain": [
       "['CACAGTAGGC', 'ACAGTAGGCG', 'CAGTAGGCGC', 'AGTAGGCGCC', 'GTAGGCGCCG']"
      ]
     },
     "execution_count": 5,
     "metadata": {},
     "output_type": "execute_result"
    }
   ],
   "source": [
    "a=list(a)\n",
    "a[0:5]"
   ]
  },
  {
   "cell_type": "markdown",
   "metadata": {},
   "source": [
    "Existen 254 secuencias de 10 posiciones dentro de la cadena dataset"
   ]
  },
  {
   "cell_type": "code",
   "execution_count": 15,
   "metadata": {
    "collapsed": false
   },
   "outputs": [
    {
     "data": {
      "text/plain": [
       "352"
      ]
     },
     "execution_count": 15,
     "metadata": {},
     "output_type": "execute_result"
    }
   ],
   "source": [
    "len(a)"
   ]
  },
  {
   "cell_type": "markdown",
   "metadata": {},
   "source": [
    "debemos buscar aquella cadena k=10 posiciones que más se repite dentro de dataset con d=2 mismatches:\n",
    "Paso1. generar todas las permutaciones de 10 posiciones del conjunto {A,C,G,T}"
   ]
  },
  {
   "cell_type": "code",
   "execution_count": 16,
   "metadata": {
    "collapsed": false
   },
   "outputs": [
    {
     "name": "stdout",
     "output_type": "stream",
     "text": [
      "CPU times: user 240 ms, sys: 8 ms, total: 248 ms\n",
      "Wall time: 248 ms\n"
     ]
    }
   ],
   "source": [
    "%time perms=list(itr.product(['A','C','G','T'],repeat=10))"
   ]
  },
  {
   "cell_type": "code",
   "execution_count": 17,
   "metadata": {
    "collapsed": false
   },
   "outputs": [
    {
     "data": {
      "text/plain": [
       "['AAAAAAAAAA',\n",
       " 'AAAAAAAAAC',\n",
       " 'AAAAAAAAAG',\n",
       " 'AAAAAAAAAT',\n",
       " 'AAAAAAAACA',\n",
       " 'AAAAAAAACC',\n",
       " 'AAAAAAAACG',\n",
       " 'AAAAAAAACT',\n",
       " 'AAAAAAAAGA',\n",
       " 'AAAAAAAAGC']"
      ]
     },
     "execution_count": 17,
     "metadata": {},
     "output_type": "execute_result"
    }
   ],
   "source": [
    "for i in range(len(perms)):\n",
    "    perms[i]=\"\".join(perms[i])\n",
    "perms[0:10]"
   ]
  },
  {
   "cell_type": "code",
   "execution_count": 18,
   "metadata": {
    "collapsed": false
   },
   "outputs": [
    {
     "data": {
      "text/plain": [
       "1048576"
      ]
     },
     "execution_count": 18,
     "metadata": {},
     "output_type": "execute_result"
    }
   ],
   "source": [
    "len(perms)"
   ]
  },
  {
   "cell_type": "markdown",
   "metadata": {},
   "source": [
    "haciendo todas las permutaciones posibles tenemos $$ 4^5=1,048,576 $$ combinaciones, entonces para buscar la cadena de tamaño 10 que más aparece con a lo más d=2 mismatches, hacemos una matriz distancias de tamaño $$mxn$$ donde m es el número de permutaciones posibles y n es el número de secuencias en la cadena dataset:"
   ]
  },
  {
   "cell_type": "markdown",
   "metadata": {},
   "source": [
    "Utilizando distancias de Hamming: $$d(AB,CB)=1$$ ya que si comparamos cada posición de las cadenas de texto difieren en la primera posición por tanto su disimiliridad o mismatch es 1, entonces para la matriz de distancias la entrada $$i,j$$ es la distancia de la permutación i vs. la secuencia j:   "
   ]
  },
  {
   "cell_type": "code",
   "execution_count": 19,
   "metadata": {
    "collapsed": true
   },
   "outputs": [],
   "source": [
    "import datetime"
   ]
  },
  {
   "cell_type": "code",
   "execution_count": 20,
   "metadata": {
    "collapsed": true
   },
   "outputs": [],
   "source": [
    "#Creamos la función que genra la matriz de distancias: \n",
    "def distx(L,W):\n",
    "    k=np.zeros((len(L),len(W))) \n",
    "    for i in range(len(L)): \n",
    "        for j in range(len(W)):\n",
    "            k[i,j]=distance.hamming(L[i],W[j])\n",
    "    return(k) "
   ]
  },
  {
   "cell_type": "code",
   "execution_count": 21,
   "metadata": {
    "collapsed": false
   },
   "outputs": [
    {
     "name": "stdout",
     "output_type": "stream",
     "text": [
      "CPU times: user 17min 28s, sys: 232 ms, total: 17min 28s\n",
      "Wall time: 17min 28s\n"
     ]
    }
   ],
   "source": [
    "#Matriz de distancias\n",
    "%time matdist=distx(perms,a)"
   ]
  },
  {
   "cell_type": "markdown",
   "metadata": {},
   "source": [
    "Tenemos entonces una matriz de tamaño 1,048,576 x 352, donde cada entrada representa la distancia de permutación vs. secuencia"
   ]
  },
  {
   "cell_type": "code",
   "execution_count": 22,
   "metadata": {
    "collapsed": false
   },
   "outputs": [
    {
     "data": {
      "text/plain": [
       "(1048576, 352)"
      ]
     },
     "execution_count": 22,
     "metadata": {},
     "output_type": "execute_result"
    }
   ],
   "source": [
    "np.shape(matdist)"
   ]
  },
  {
   "cell_type": "code",
   "execution_count": 23,
   "metadata": {
    "collapsed": false
   },
   "outputs": [
    {
     "data": {
      "text/plain": [
       "array([[  7.,   7.,   8., ...,   8.,   8.,   8.],\n",
       "       [  6.,   7.,   7., ...,   8.,   7.,   7.],\n",
       "       [  7.,   6.,   8., ...,   7.,   8.,   8.],\n",
       "       ..., \n",
       "       [  8.,   9.,   8., ...,  10.,   9.,   9.],\n",
       "       [  9.,   8.,   9., ...,   9.,  10.,  10.],\n",
       "       [  9.,   9.,   9., ...,  10.,  10.,  10.]])"
      ]
     },
     "execution_count": 23,
     "metadata": {},
     "output_type": "execute_result"
    }
   ],
   "source": [
    "matdist"
   ]
  },
  {
   "cell_type": "markdown",
   "metadata": {},
   "source": [
    "Dado que el renglón $$i$$ representa la $$i-ésima$$ permutación, entonces para saber cuantas veces se repite dentro de la secuencia con a lo más 2 mismatches  podemos sumar por renglón cuantas distancias son menores o iguales a 2 \n",
    "$$\n",
    "\\sum_{j=1}^{352}x_{i,j}\n",
    "$$\n",
    "con $$ \\left\\{x_{i,j}=1 \\ si \\ d(i,j)<=2\\right\\} \\ ó \\ x_{i,j}=0 \\ e.o.c. $$ \n",
    "entonces hacemos la función de sumas:"
   ]
  },
  {
   "cell_type": "code",
   "execution_count": 24,
   "metadata": {
    "collapsed": false
   },
   "outputs": [
    {
     "name": "stdout",
     "output_type": "stream",
     "text": [
      "0:10:43.832382\n"
     ]
    }
   ],
   "source": [
    "now=datetime.datetime.now()\n",
    "##################################\n",
    "freq=np.zeros(len(perms)) \n",
    "for k in range(len(perms)):\n",
    "    freq[k]=sum(matdist[k,:]<=2)\n",
    "####################################    \n",
    "fin=datetime.datetime.now()\n",
    "print(fin-now)"
   ]
  },
  {
   "cell_type": "markdown",
   "metadata": {},
   "source": [
    "Se genera el arreglo freq de tamaño 1,048,576  que contiene la frecuencia con que aparece la permutación:"
   ]
  },
  {
   "cell_type": "code",
   "execution_count": 25,
   "metadata": {
    "collapsed": false
   },
   "outputs": [
    {
     "data": {
      "text/plain": [
       "array([ 0.,  0.,  0., ...,  0.,  0.,  0.])"
      ]
     },
     "execution_count": 25,
     "metadata": {},
     "output_type": "execute_result"
    }
   ],
   "source": [
    "freq"
   ]
  },
  {
   "cell_type": "code",
   "execution_count": 26,
   "metadata": {
    "collapsed": false
   },
   "outputs": [
    {
     "data": {
      "text/plain": [
       "1048576"
      ]
     },
     "execution_count": 26,
     "metadata": {},
     "output_type": "execute_result"
    }
   ],
   "source": [
    "len(freq)"
   ]
  },
  {
   "cell_type": "code",
   "execution_count": 27,
   "metadata": {
    "collapsed": false
   },
   "outputs": [
    {
     "data": {
      "text/plain": [
       "20.0"
      ]
     },
     "execution_count": 27,
     "metadata": {},
     "output_type": "execute_result"
    }
   ],
   "source": [
    "max(freq)"
   ]
  },
  {
   "cell_type": "markdown",
   "metadata": {},
   "source": [
    "Se revisa cual es la cadena que más veces aparece y se obtiene la posición de la cadena que aparece más veces con el mismatch de 2"
   ]
  },
  {
   "cell_type": "code",
   "execution_count": 28,
   "metadata": {
    "collapsed": false
   },
   "outputs": [
    {
     "data": {
      "text/plain": [
       "(array([594209, 626961]),)"
      ]
     },
     "execution_count": 28,
     "metadata": {},
     "output_type": "execute_result"
    }
   ],
   "source": [
    "np.where(freq==max(freq))"
   ]
  },
  {
   "cell_type": "markdown",
   "metadata": {},
   "source": [
    "La cadena más frecuente aparece 13 veces, pero en este caso existen 2  cadenas:"
   ]
  },
  {
   "cell_type": "code",
   "execution_count": 29,
   "metadata": {
    "collapsed": false
   },
   "outputs": [
    {
     "name": "stdout",
     "output_type": "stream",
     "text": [
      "GCACACAGAC\n",
      "GCGCACACAC\n"
     ]
    }
   ],
   "source": [
    "print(perms[594209])\n",
    "print(perms[626961])\n",
    "#16064 CGGGCGGCGG 13\n",
    "#46749 CGGCCGCCGG 13\n",
    "#5803  GCGCACACAC 20\n",
    "#      GCGCACACAC\n",
    "#      GCGCACACAC\n",
    "#52647 GCACACAGAC 20\n",
    "#      GCACACAGAC"
   ]
  },
  {
   "cell_type": "markdown",
   "metadata": {},
   "source": [
    "Para saber si la cadena esta o no dentro de la secuencia \"dataset\" podemos revisar la distancia mínima que existe entre la i-ésima permutación y las 254 secuencias de tal modo que si la distancia mínima es 0 entonces sabremos que la permutación está en la lista de secuencias de lo contrario no lo está:"
   ]
  },
  {
   "cell_type": "code",
   "execution_count": 30,
   "metadata": {
    "collapsed": false
   },
   "outputs": [
    {
     "data": {
      "text/plain": [
       "1.0"
      ]
     },
     "execution_count": 30,
     "metadata": {},
     "output_type": "execute_result"
    }
   ],
   "source": [
    "min(matdist[594209,:]) #la cadena GCACACAGAC no está en la lista de secuencias"
   ]
  },
  {
   "cell_type": "code",
   "execution_count": 31,
   "metadata": {
    "collapsed": false
   },
   "outputs": [
    {
     "data": {
      "text/plain": [
       "0.0"
      ]
     },
     "execution_count": 31,
     "metadata": {},
     "output_type": "execute_result"
    }
   ],
   "source": [
    "min(matdist[626961,:])#la cadena GCGCACACAC  está en la secuencia"
   ]
  },
  {
   "cell_type": "code",
   "execution_count": 32,
   "metadata": {
    "collapsed": false
   },
   "outputs": [
    {
     "data": {
      "text/plain": [
       "0"
      ]
     },
     "execution_count": 32,
     "metadata": {},
     "output_type": "execute_result"
    }
   ],
   "source": [
    "distance.hamming(('C', 'G', 'G', 'C', 'C', 'G', 'C', 'C', 'G', 'G'),'CGGCCGCCGG')"
   ]
  },
  {
   "cell_type": "code",
   "execution_count": 1,
   "metadata": {
    "collapsed": false
   },
   "outputs": [],
   "source": [
    "#Creamos la función que genra la matriz de distancias: \n",
    "def distx(L,W):\n",
    "    k=np.zeros((len(L),len(W))) \n",
    "    for i in range(len(L)): \n",
    "        for j in range(len(W)):\n",
    "            k[i,j]=distance.hamming(L[i],W[j])\n",
    "    return(k) \n",
    "\n",
    "\n",
    "def kmers(cadena,k,d):\n",
    "    #generamos todas los strings de tamaño k dentro de la cadena\n",
    "    a=list([cadena[i:i+k] for i in range(0, len(cadena), 1) if len(cadena[i:i+k]) ==k]) \n",
    "    #se generan todas las permutaciones de tamalo k que se pueden hacer con el conjunto {A,C,G,T} \n",
    "    perms=list(itr.product(['A','C','G','T'],repeat=k))\n",
    "    #perms es de la forma ['A','C','G','T'] y lo transformamos a la forma 'ACGT'\n",
    "    for w in range(len(perms)):\n",
    "        perms[w]=\"\".join(perms[w])\n",
    "    #se crea la matriz de distancias de permutaciones y secuencias de tamaño k de la cadena\n",
    "    matdist=distx(perms,a)\n",
    "    #contamos los renglones(permutaciones) que tienen distancia<=2 y generamos el vector freq con los conteos\n",
    "    freq=np.zeros(len(perms)) \n",
    "    for j in range(len(perms)):\n",
    "        freq[j]=sum(matdist[j,:]<=d)\n",
    "    #Se revisa cual es la permutación que más veces aparece con mismatch d y \n",
    "    #se obtiene la posición donde se encuentra\n",
    "    v=np.where(freq==max(freq))[0]\n",
    "    for n in range(len(v)):\n",
    "        print(perms[v[n]],\" \",freq[v[n]])\n",
    "            "
   ]
  },
  {
   "cell_type": "code",
   "execution_count": 14,
   "metadata": {
    "collapsed": false
   },
   "outputs": [
    {
     "name": "stdout",
     "output_type": "stream",
     "text": [
      "GCACACAGAC   20.0\n",
      "GCGCACACAC   20.0\n",
      "tiempo total:  0:27:48.222125\n"
     ]
    }
   ],
   "source": [
    "now=datetime.datetime.now()\n",
    "dataset=dataset[0:20]\n",
    "kmers(dataset,10,2) \n",
    "        \n",
    "fin=datetime.datetime.now()\n",
    "print(\"tiempo total: \",fin-now)"
   ]
  },
  {
   "cell_type": "code",
   "execution_count": 67,
   "metadata": {
    "collapsed": false
   },
   "outputs": [],
   "source": [
    "v=np.where(freq==max(freq))[0]"
   ]
  },
  {
   "cell_type": "code",
   "execution_count": 68,
   "metadata": {
    "collapsed": false,
    "scrolled": true
   },
   "outputs": [
    {
     "data": {
      "text/plain": [
       "2"
      ]
     },
     "execution_count": 68,
     "metadata": {},
     "output_type": "execute_result"
    }
   ],
   "source": [
    "len(v)"
   ]
  },
  {
   "cell_type": "code",
   "execution_count": 69,
   "metadata": {
    "collapsed": false
   },
   "outputs": [
    {
     "name": "stdout",
     "output_type": "stream",
     "text": [
      "tiempo total:  0:11:44.119673\n"
     ]
    }
   ],
   "source": [
    "print(\"tiempo total: \",fin-now)"
   ]
  },
  {
   "cell_type": "code",
   "execution_count": 9,
   "metadata": {
    "collapsed": false
   },
   "outputs": [
    {
     "data": {
      "text/plain": [
       "'AAAAAAAAAA'"
      ]
     },
     "execution_count": 9,
     "metadata": {},
     "output_type": "execute_result"
    }
   ],
   "source": [
    "perms[0]"
   ]
  },
  {
   "cell_type": "code",
   "execution_count": null,
   "metadata": {
    "collapsed": false
   },
   "outputs": [],
   "source": []
  },
  {
   "cell_type": "code",
   "execution_count": null,
   "metadata": {
    "collapsed": true
   },
   "outputs": [],
   "source": []
  },
  {
   "cell_type": "code",
   "execution_count": null,
   "metadata": {
    "collapsed": false
   },
   "outputs": [],
   "source": []
  },
  {
   "cell_type": "code",
   "execution_count": null,
   "metadata": {
    "collapsed": false
   },
   "outputs": [],
   "source": []
  },
  {
   "cell_type": "code",
   "execution_count": null,
   "metadata": {
    "collapsed": true
   },
   "outputs": [],
   "source": []
  }
 ],
 "metadata": {
  "anaconda-cloud": {},
  "kernelspec": {
   "display_name": "Python [conda env:bioinformatics]",
   "language": "python",
   "name": "conda-env-bioinformatics-py"
  },
  "language_info": {
   "codemirror_mode": {
    "name": "ipython",
    "version": 3
   },
   "file_extension": ".py",
   "mimetype": "text/x-python",
   "name": "python",
   "nbconvert_exporter": "python",
   "pygments_lexer": "ipython3",
   "version": "3.4.5"
  }
 },
 "nbformat": 4,
 "nbformat_minor": 1
}
